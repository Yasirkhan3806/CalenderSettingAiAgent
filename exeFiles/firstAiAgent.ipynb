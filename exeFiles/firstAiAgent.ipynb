{
 "cells": [
  {
   "cell_type": "markdown",
   "metadata": {},
   "source": [
    "A simple example of how to initialize a Graph object with Langgraph"
   ]
  },
  {
   "cell_type": "code",
   "execution_count": 1,
   "metadata": {},
   "outputs": [
    {
     "name": "stdout",
     "output_type": "stream",
     "text": [
      "hello there I am happy\n"
     ]
    },
    {
     "data": {
      "image/png": "[encoded data removed]",
      "text/plain": [
       "<IPython.core.display.Image object>"
      ]
     },
     "metadata": {},
     "output_type": "display_data"
    }
   ],
   "source": [
    "from langgraph.graph import Graph, START, END\n",
    "\n",
    "\n",
    "def function_1(input_1):\n",
    "    return input_1 + \" I am \"\n",
    "\n",
    "def function_2(input_2):\n",
    "    return input_2 + \"happy\"\n",
    "\n",
    "\n",
    "\n",
    "# Define a graph\n",
    "workflow = Graph()\n",
    "\n",
    "# define nodes\n",
    "workflow.add_node(\"node_1\", function_1)\n",
    "workflow.add_node(\"node_2\", function_2)\n",
    "\n",
    "# define edges\n",
    "workflow.add_edge(START, 'node_1')\n",
    "workflow.add_edge('node_1', 'node_2')\n",
    "workflow.add_edge('node_2', END)\n",
    "\n",
    "graph = workflow.compile()\n",
    "\n",
    "\n",
    "print(graph.invoke(\"hello there\"))\n",
    "\n",
    "from IPython.display import Image\n",
    "\n",
    "# View\n",
    "display(Image(graph.get_graph().draw_mermaid_png()))"
   ]
  },
  {
   "cell_type": "markdown",
   "metadata": {},
   "source": [
    "Now we will proceed with an AI Agent that can store calenders in google calenders"
   ]
  },
  {
   "cell_type": "code",
   "execution_count": null,
   "metadata": {},
   "outputs": [
    {
     "name": "stdout",
     "output_type": "stream",
     "text": [
      "Note: you may need to restart the kernel to use updated packages.\n"
     ]
    }
   ],
   "source": [
    "%pip install -qU langchain langchain-google-genai\n",
    "%pip install python-dotenv\n"
   ]
  },
  {
   "cell_type": "markdown",
   "metadata": {},
   "source": [
    "get gemini api\n"
   ]
  },
  {
   "cell_type": "code",
   "execution_count": 2,
   "metadata": {},
   "outputs": [],
   "source": [
    "import os\n",
    "from dotenv import load_dotenv\n",
    "\n",
    "load_dotenv()\n",
    "gemini_api_key = os.getenv(\"GEMINI_API_KEY\")"
   ]
  },
  {
   "cell_type": "markdown",
   "metadata": {},
   "source": [
    "using gemini api key to get access to llm "
   ]
  },
  {
   "cell_type": "code",
   "execution_count": 3,
   "metadata": {},
   "outputs": [],
   "source": [
    "from langchain_google_genai import ChatGoogleGenerativeAI\n",
    "\n",
    "model: ChatGoogleGenerativeAI = ChatGoogleGenerativeAI(\n",
    "    model=\"gemini-2.0-flash-exp\",\n",
    "    api_key=gemini_api_key    \n",
    ")"
   ]
  },
  {
   "cell_type": "markdown",
   "metadata": {},
   "source": [
    "Trying the model "
   ]
  },
  {
   "cell_type": "code",
   "execution_count": 4,
   "metadata": {},
   "outputs": [
    {
     "data": {
      "text/plain": [
       "AIMessage(content='Hello! How can I help you today?', additional_kwargs={}, response_metadata={'prompt_feedback': {'block_reason': 0, 'safety_ratings': []}, 'finish_reason': 'STOP', 'safety_ratings': []}, id='run-6a3db7b4-1e29-4208-ab9c-f7700cd91ff6-0', usage_metadata={'input_tokens': 2, 'output_tokens': 10, 'total_tokens': 12, 'input_token_details': {'cache_read': 0}})"
      ]
     },
     "execution_count": 4,
     "metadata": {},
     "output_type": "execute_result"
    }
   ],
   "source": [
    "response = model.invoke(\"Hello there\")\n",
    "response"
   ]
  },
  {
   "cell_type": "markdown",
   "metadata": {},
   "source": [
    "Lets Create node of the graph and try using the llm , first we import some stuff like special type of dict, annotated list , anymessages to store every type of message and add_message to directly add messages to the annotated list"
   ]
  },
  {
   "cell_type": "code",
   "execution_count": 231,
   "metadata": {},
   "outputs": [],
   "source": [
    "from typing import TypedDict, Annotated\n",
    "from langgraph.graph import MessagesState\n",
    "from langchain_core.messages import AnyMessage\n",
    "from langgraph.graph.message import add_messages\n",
    "from langchain_core.tools import tool\n",
    "\n",
    "class agentState(TypedDict):\n",
    "    messages: Annotated[list[AnyMessage], add_messages]  \n",
    "\n"
   ]
  },
  {
   "cell_type": "markdown",
   "metadata": {},
   "source": [
    "Then we create a derived class of typedDict and initialize a annotated list init"
   ]
  },
  {
   "cell_type": "code",
   "execution_count": null,
   "metadata": {},
   "outputs": [],
   "source": []
  },
  {
   "cell_type": "markdown",
   "metadata": {},
   "source": [
    "Connecting to the google calender to add and get events from there"
   ]
  },
  {
   "cell_type": "code",
   "execution_count": 207,
   "metadata": {},
   "outputs": [
    {
     "name": "stdout",
     "output_type": "stream",
     "text": [
      "Requirement already satisfied: google-auth in d:\\ai agents\\.venv\\lib\\site-packages (2.38.0)Note: you may need to restart the kernel to use updated packages.\n",
      "\n",
      "Requirement already satisfied: google-auth-oauthlib in d:\\ai agents\\.venv\\lib\\site-packages (1.2.1)\n",
      "Requirement already satisfied: google-auth-httplib2 in d:\\ai agents\\.venv\\lib\\site-packages (0.2.0)\n",
      "Requirement already satisfied: google-api-python-client in d:\\ai agents\\.venv\\lib\\site-packages (2.161.0)\n",
      "Requirement already satisfied: cachetools<6.0,>=2.0.0 in d:\\ai agents\\.venv\\lib\\site-packages (from google-auth) (5.5.1)\n",
      "Requirement already satisfied: pyasn1-modules>=0.2.1 in d:\\ai agents\\.venv\\lib\\site-packages (from google-auth) (0.4.1)\n",
      "Requirement already satisfied: rsa<5,>=3.1.4 in d:\\ai agents\\.venv\\lib\\site-packages (from google-auth) (4.9)\n",
      "Requirement already satisfied: requests-oauthlib>=0.7.0 in d:\\ai agents\\.venv\\lib\\site-packages (from google-auth-oauthlib) (2.0.0)\n",
      "Requirement already satisfied: httplib2>=0.19.0 in d:\\ai agents\\.venv\\lib\\site-packages (from google-auth-httplib2) (0.22.0)\n",
      "Requirement already satisfied: google-api-core!=2.0.*,!=2.1.*,!=2.2.*,!=2.3.0,<3.0.0.dev0,>=1.31.5 in d:\\ai agents\\.venv\\lib\\site-packages (from google-api-python-client) (2.24.1)\n",
      "Requirement already satisfied: uritemplate<5,>=3.0.1 in d:\\ai agents\\.venv\\lib\\site-packages (from google-api-python-client) (4.1.1)\n",
      "Requirement already satisfied: googleapis-common-protos<2.0.dev0,>=1.56.2 in d:\\ai agents\\.venv\\lib\\site-packages (from google-api-core!=2.0.*,!=2.1.*,!=2.2.*,!=2.3.0,<3.0.0.dev0,>=1.31.5->google-api-python-client) (1.67.0)\n",
      "Requirement already satisfied: protobuf!=3.20.0,!=3.20.1,!=4.21.0,!=4.21.1,!=4.21.2,!=4.21.3,!=4.21.4,!=4.21.5,<6.0.0.dev0,>=3.19.5 in d:\\ai agents\\.venv\\lib\\site-packages (from google-api-core!=2.0.*,!=2.1.*,!=2.2.*,!=2.3.0,<3.0.0.dev0,>=1.31.5->google-api-python-client) (5.29.3)\n",
      "Requirement already satisfied: proto-plus<2.0.0dev,>=1.22.3 in d:\\ai agents\\.venv\\lib\\site-packages (from google-api-core!=2.0.*,!=2.1.*,!=2.2.*,!=2.3.0,<3.0.0.dev0,>=1.31.5->google-api-python-client) (1.26.0)\n",
      "Requirement already satisfied: requests<3.0.0.dev0,>=2.18.0 in d:\\ai agents\\.venv\\lib\\site-packages (from google-api-core!=2.0.*,!=2.1.*,!=2.2.*,!=2.3.0,<3.0.0.dev0,>=1.31.5->google-api-python-client) (2.32.3)\n",
      "Requirement already satisfied: pyparsing!=3.0.0,!=3.0.1,!=3.0.2,!=3.0.3,<4,>=2.4.2 in d:\\ai agents\\.venv\\lib\\site-packages (from httplib2>=0.19.0->google-auth-httplib2) (3.2.1)\n",
      "Requirement already satisfied: pyasn1<0.7.0,>=0.4.6 in d:\\ai agents\\.venv\\lib\\site-packages (from pyasn1-modules>=0.2.1->google-auth) (0.6.1)\n",
      "Requirement already satisfied: oauthlib>=3.0.0 in d:\\ai agents\\.venv\\lib\\site-packages (from requests-oauthlib>=0.7.0->google-auth-oauthlib) (3.2.2)\n",
      "Requirement already satisfied: charset-normalizer<4,>=2 in d:\\ai agents\\.venv\\lib\\site-packages (from requests<3.0.0.dev0,>=2.18.0->google-api-core!=2.0.*,!=2.1.*,!=2.2.*,!=2.3.0,<3.0.0.dev0,>=1.31.5->google-api-python-client) (3.4.1)\n",
      "Requirement already satisfied: idna<4,>=2.5 in d:\\ai agents\\.venv\\lib\\site-packages (from requests<3.0.0.dev0,>=2.18.0->google-api-core!=2.0.*,!=2.1.*,!=2.2.*,!=2.3.0,<3.0.0.dev0,>=1.31.5->google-api-python-client) (3.10)\n",
      "Requirement already satisfied: urllib3<3,>=1.21.1 in d:\\ai agents\\.venv\\lib\\site-packages (from requests<3.0.0.dev0,>=2.18.0->google-api-core!=2.0.*,!=2.1.*,!=2.2.*,!=2.3.0,<3.0.0.dev0,>=1.31.5->google-api-python-client) (2.3.0)\n",
      "Requirement already satisfied: certifi>=2017.4.17 in d:\\ai agents\\.venv\\lib\\site-packages (from requests<3.0.0.dev0,>=2.18.0->google-api-core!=2.0.*,!=2.1.*,!=2.2.*,!=2.3.0,<3.0.0.dev0,>=1.31.5->google-api-python-client) (2025.1.31)\n"
     ]
    }
   ],
   "source": [
    "%pip install google-auth google-auth-oauthlib google-auth-httplib2 google-api-python-client\n"
   ]
  },
  {
   "cell_type": "code",
   "execution_count": 208,
   "metadata": {},
   "outputs": [
    {
     "name": "stdout",
     "output_type": "stream",
     "text": [
      "✅ Connected to Google Calendar API!\n"
     ]
    }
   ],
   "source": [
    "import os\n",
    "import datetime\n",
    "from google.oauth2 import service_account\n",
    "from googleapiclient.discovery import build\n",
    "\n",
    "# Load service account credentials\n",
    "SERVICE_ACCOUNT_FILE = \"D:/Ai agents/exeFiles/service-account.json\"  # Path to your JSON key\n",
    "SCOPES = [\"https://www.googleapis.com/auth/calendar\"]\n",
    "\n",
    "credentials = service_account.Credentials.from_service_account_file(\n",
    "    SERVICE_ACCOUNT_FILE, scopes=SCOPES\n",
    ")\n",
    "\n",
    "# Connect to Google Calendar API\n",
    "service = build(\"calendar\", \"v3\", credentials=credentials)\n",
    "print(\"✅ Connected to Google Calendar API!\")\n",
    "\n"
   ]
  },
  {
   "cell_type": "markdown",
   "metadata": {},
   "source": [
    "Lets extract the date from user query "
   ]
  },
  {
   "cell_type": "code",
   "execution_count": 209,
   "metadata": {},
   "outputs": [],
   "source": [
    "\n",
    "@tool\n",
    "def extract_date(userInput: str):\n",
    "    \"\"\" function to extract date from the user input\n",
    "    Args:\n",
    "        userInput (str): user input\n",
    "    Returns:\n",
    "        str: date in the format YYYY-MM-DD\n",
    "    \"\"\"\n",
    "    response = model.invoke(f\"Your job is to extract date from the {userInput} and return it as a string in the YYYY-MM-DD format\")\n",
    "    return response.content\n"
   ]
  },
  {
   "cell_type": "markdown",
   "metadata": {},
   "source": [
    "Lets fetch events from Google Calendar"
   ]
  },
  {
   "cell_type": "code",
   "execution_count": 210,
   "metadata": {},
   "outputs": [],
   "source": [
    "\n",
    "@tool\n",
    "def upcoming_events(date:str):\n",
    "\n",
    "    \"\"\"\n",
    "    Function to get upcoming events from Google Calendar\n",
    "    Args:\n",
    "        date (str): Format: 'YYYY-MM-DD' (UTC) or 'YYYY-MM-DDTHH:MM:SS±HH:MM' (Local Time)\n",
    "        Example: '2025-02-21' (UTC) or '2025-02-21' (Pakistan Time)\n",
    "    Returns:\n",
    "        list: list of upcoming events if found\n",
    "        string: message if no events found\n",
    "    \"\"\"\n",
    "\n",
    "    # Convert date to RFC 3339 format (start and end of the day)\n",
    "    time_min = f\"{date}T00:00:00Z\"  # Start of the day in UTC\n",
    "    time_max = f\"{date}T23:59:59Z\"  # End of the day in UTC\n",
    "\n",
    "    events_result = service.events().list(\n",
    "        calendarId=\"yk5645123@gmail.com\",\n",
    "        timeMin=time_min,\n",
    "        timeMax=time_max,\n",
    "        singleEvents=True,\n",
    "        orderBy=\"startTime\"\n",
    "    ).execute()\n",
    "\n",
    "    events = events_result.get(\"items\", [])\n",
    "    if not events:\n",
    "        return \"No events found for this date.\"\n",
    "\n",
    "    return events\n",
    "        \n",
    "\n"
   ]
  },
  {
   "cell_type": "markdown",
   "metadata": {},
   "source": [
    "lets create a helper function that extracts data from user query"
   ]
  },
  {
   "cell_type": "code",
   "execution_count": 211,
   "metadata": {},
   "outputs": [],
   "source": [
    "@tool\n",
    "def extract_date_startTime_endTime_summary_location_description(userInput: str):\n",
    "    \"\"\" function to extract date, start time, end time, summary, location, and description from the user input\n",
    "    Args:\n",
    "    userInput (str): user input\n",
    "    Returns:\n",
    "    dict: event data extracted from user query and name the dict, eventData\n",
    "    \"\"\"\n",
    "    response = model.invoke(f\"\"\"Your job is extract date, start time, end time, summary, location, and description from the {userInput} in formatdate (str): The date of the event in 'YYYY-MM-DD' format.\n",
    "        startTime (str): The start time of the event in 'HH:MM' 24-hour format.\n",
    "        endTime (str): The end time of the event in 'HH:MM' 24-hour format.\n",
    "        summary (str): The title or summary of the event.\n",
    "        location (str): The location of the event.\n",
    "        description (str): Additional details about the event. and return them as a dict with keys as the output specified and the data extracted from user query and name the dict, eventData , make sure that if time is not specified just send 00:00 and nothing else\"\"\")\n",
    "    return response.content"
   ]
  },
  {
   "cell_type": "markdown",
   "metadata": {},
   "source": [
    "Adding events to the calendar "
   ]
  },
  {
   "cell_type": "code",
   "execution_count": 212,
   "metadata": {},
   "outputs": [],
   "source": [
    "@tool\n",
    "def add_event(userData:dict):\n",
    "    \"\"\"\n",
    "    Adds an event to the user's Google Calendar.\n",
    "\n",
    "    Args:\n",
    "        userData (dict): Contains the following\n",
    "            - date (str): The date of the event in 'YYYY-MM-DD' format.\n",
    "            - startTime (str): The start time of the event in 'HH:MM' 24-hour format.\n",
    "            - endTime (str): The end time of the event in 'HH:MM' 24-hour format.\n",
    "            - summary (str): The title or summary of the event.\n",
    "            - location (str): The location of the event.\n",
    "            - description (str): Additional details about the event.\n",
    "\n",
    "\n",
    "    Returns:\n",
    "        str: A success message with the event link if created successfully.\n",
    "        str: An error message if event creation fails.\n",
    "\n",
    "    Example Usage:\n",
    "        add_event(\"2025-02-21\", \"17:00\", \"18:00\", \"Meeting\", \"Virtual\", \"Discussion on project updates.\")\n",
    "\n",
    "    Expected Format:\n",
    "        - Date: '2025-02-21'\n",
    "        - Start Time: '17:00' (5:00 PM)\n",
    "        - End Time: '18:00' (6:00 PM)\n",
    "    \n",
    "    Notes:\n",
    "        - The function assumes the time is in UTC.\n",
    "        - The event is set to \"public\" visibility.\n",
    "    \"\"\"\n",
    "    try:\n",
    "        # Convert date and time to the correct format\n",
    "        date = userData[\"date\"]\n",
    "        startTime = userData[\"startTime\"]\n",
    "        endTime = userData[\"endTime\"]\n",
    "        summary = userData[\"summary\"]\n",
    "        location = userData[\"location\"]\n",
    "        description = userData[\"description\"]\n",
    "        start_datetime = f\"{date}T{startTime}:00Z\"\n",
    "        end_datetime = f\"{date}T{endTime}:00Z\"\n",
    "\n",
    "        event = {\n",
    "            \"summary\": summary,\n",
    "            \"location\": location,\n",
    "            \"description\": description,\n",
    "            \"start\": {\"dateTime\": start_datetime, \"timeZone\": \"UTC\"},\n",
    "            \"end\": {\"dateTime\": end_datetime, \"timeZone\": \"UTC\"},\n",
    "            \"visibility\": \"public\",\n",
    "        }\n",
    "\n",
    "        # Replace with your actual Calendar ID\n",
    "        CALENDAR_ID = \"yk5645123@gmail.com\"\n",
    "\n",
    "        event_result = service.events().insert(calendarId=CALENDAR_ID, body=event).execute()\n",
    "        return f\" Event created: {event_result.get('htmlLink')}\"\n",
    "\n",
    "    except Exception as e:\n",
    "        return f\" An error occurred: {e}\"\n",
    "\n",
    "\n",
    "   "
   ]
  },
  {
   "cell_type": "markdown",
   "metadata": {},
   "source": [
    "Lets create nodes and agent now "
   ]
  },
  {
   "cell_type": "markdown",
   "metadata": {},
   "source": [
    "Binding tools with the llm"
   ]
  },
  {
   "cell_type": "code",
   "execution_count": 213,
   "metadata": {},
   "outputs": [],
   "source": [
    "tools = [extract_date,upcoming_events,extract_date_startTime_endTime_summary_location_description,add_event]\n",
    "model_with_tools = model.bind_tools(tools)"
   ]
  },
  {
   "cell_type": "markdown",
   "metadata": {},
   "source": [
    "Lets check the llm and its responses"
   ]
  },
  {
   "cell_type": "code",
   "execution_count": 214,
   "metadata": {},
   "outputs": [
    {
     "data": {
      "text/plain": [
       "AIMessage(content='', additional_kwargs={'function_call': {'name': 'upcoming_events', 'arguments': '{\"date\": \"2025-02-21\"}'}}, response_metadata={'prompt_feedback': {'block_reason': 0, 'safety_ratings': []}, 'finish_reason': 'STOP', 'safety_ratings': []}, id='run-a2cdb5a6-4845-4218-a0bf-830335623008-0', tool_calls=[{'name': 'upcoming_events', 'args': {'date': '2025-02-21'}, 'id': '2ff5843f-8634-48ee-a524-7d48b9a0365d', 'type': 'tool_call'}], usage_metadata={'input_tokens': 598, 'output_tokens': 14, 'total_tokens': 612, 'input_token_details': {'cache_read': 0}})"
      ]
     },
     "execution_count": 214,
     "metadata": {},
     "output_type": "execute_result"
    }
   ],
   "source": [
    "response = model_with_tools.invoke(\"add event to my calender on feb 21 2025 which will start at 10 am and end at 12 pm , will be held at virtual and its about the my first job as a software engineer, also make sure that i dont have events on that date and time and if there are please tell me details\")\n",
    "\n",
    "response"
   ]
  },
  {
   "cell_type": "markdown",
   "metadata": {},
   "source": [
    "Lets create a work flow now using langchain and langgraph"
   ]
  },
  {
   "cell_type": "code",
   "execution_count": 233,
   "metadata": {},
   "outputs": [],
   "source": [
    "def function_1(state:agentState):\n",
    "    messages = state['messages']\n",
    "    response = model_with_tools.invoke(messages)\n",
    "    return {\"messages\": [response]}"
   ]
  },
  {
   "cell_type": "markdown",
   "metadata": {},
   "source": [
    "Tools node for all the tools 1"
   ]
  },
  {
   "cell_type": "code",
   "execution_count": 234,
   "metadata": {},
   "outputs": [],
   "source": [
    "from langgraph.prebuilt import ToolNode\n",
    "\n",
    "function_2 = ToolNode(tools)"
   ]
  },
  {
   "cell_type": "code",
   "execution_count": 235,
   "metadata": {},
   "outputs": [],
   "source": [
    "from langgraph.graph import StateGraph, END, START\n",
    "from langgraph.prebuilt import tools_condition\n",
    "from langgraph.graph.state import CompiledStateGraph\n",
    "\n",
    "\n",
    "\n",
    "workflow = StateGraph(agentState)  # Ensure AgentState is defined properly\n",
    "\n",
    "# Define your nodes properly\n",
    "workflow.add_node(\"llm\", function_1)  \n",
    "workflow.add_node(\"tools\", function_2)  \n",
    "\n",
    "# Define the flow of execution\n",
    "workflow.add_edge(START, \"llm\")\n",
    "workflow.add_conditional_edges(\"llm\", tools_condition)\n",
    "workflow.add_edge(\"tools\", \"llm\")\n",
    "\n",
    "# **Ensure there is an END condition**\n",
    "workflow.add_edge(\"llm\", END)  # If LLM should sometimes terminate\n",
    "\n",
    "# Compile the graph\n",
    "graph: CompiledStateGraph = workflow.compile()\n"
   ]
  },
  {
   "cell_type": "code",
   "execution_count": 236,
   "metadata": {},
   "outputs": [
    {
     "data": {
      "image/png": "[encoded data removed]",
      "text/plain": [
       "<IPython.core.display.Image object>"
      ]
     },
     "metadata": {},
     "output_type": "display_data"
    }
   ],
   "source": [
    "from IPython.display import Image\n",
    "\n",
    "# View\n",
    "display(Image(graph.get_graph().draw_mermaid_png()))"
   ]
  },
  {
   "cell_type": "markdown",
   "metadata": {},
   "source": [
    "lets test it now"
   ]
  },
  {
   "cell_type": "code",
   "execution_count": 240,
   "metadata": {},
   "outputs": [
    {
     "name": "stdout",
     "output_type": "stream",
     "text": [
      "================================\u001b[1m Human Message \u001b[0m=================================\n",
      "\n",
      "add event to my calender on feb 21 2025 which will start at 10 am and end at 12 pm , will be held at virtual and its about the my first job as a software engineer, also make sure that i dont have events on that date and time and if there are please tell me details\n",
      "==================================\u001b[1m Ai Message \u001b[0m==================================\n",
      "Tool Calls:\n",
      "  upcoming_events (c60431d4-6e89-4741-b989-6baa5db36103)\n",
      " Call ID: c60431d4-6e89-4741-b989-6baa5db36103\n",
      "  Args:\n",
      "    date: 2025-02-21\n",
      "=================================\u001b[1m Tool Message \u001b[0m=================================\n",
      "Name: upcoming_events\n",
      "\n",
      "[{\"kind\": \"calendar#event\", \"etag\": \"\\\"3480133152840000\\\"\", \"id\": \"c6m92f8klrg10tapvjng1ilijs\", \"status\": \"confirmed\", \"htmlLink\": \"https://www.google.com/calendar/event?eid=YzZtOTJmOGtscmcxMHRhcHZqbmcxaWxpanMgeWs1NjQ1MTIzQG0\", \"created\": \"2025-02-20T15:49:36.000Z\", \"updated\": \"2025-02-20T15:49:36.420Z\", \"summary\": \"AI Agent Test Event\", \"description\": \"This is an event added by my AI agent.\", \"location\": \"Virtual\", \"creator\": {\"email\": \"calender-setting-ai@fresh-balancer-451417-h0.iam.gserviceaccount.com\"}, \"organizer\": {\"email\": \"yk5645123@gmail.com\", \"self\": true}, \"start\": {\"dateTime\": \"2025-02-21T17:00:00Z\", \"timeZone\": \"UTC\"}, \"end\": {\"dateTime\": \"2025-02-21T18:00:00Z\", \"timeZone\": \"UTC\"}, \"visibility\": \"public\", \"iCalUID\": \"c6m92f8klrg10tapvjng1ilijs@google.com\", \"sequence\": 0, \"reminders\": {\"useDefault\": true}, \"eventType\": \"default\"}, {\"kind\": \"calendar#event\", \"etag\": \"\\\"3480141338852000\\\"\", \"id\": \"c75nbsmtsbf28q2cf4s5v0dbec\", \"status\": \"confirmed\", \"htmlLink\": \"https://www.google.com/calendar/event?eid=Yzc1bmJzbXRzYmYyOHEyY2Y0czV2MGRiZWMgeWs1NjQ1MTIzQG0\", \"created\": \"2025-02-20T16:57:49.000Z\", \"updated\": \"2025-02-20T16:57:49.426Z\", \"summary\": \"Meeting\", \"description\": \"Discussion on project updates.\", \"location\": \"Virtual\", \"creator\": {\"email\": \"calender-setting-ai@fresh-balancer-451417-h0.iam.gserviceaccount.com\"}, \"organizer\": {\"email\": \"yk5645123@gmail.com\", \"self\": true}, \"start\": {\"dateTime\": \"2025-02-21T17:00:00Z\", \"timeZone\": \"UTC\"}, \"end\": {\"dateTime\": \"2025-02-21T18:00:00Z\", \"timeZone\": \"UTC\"}, \"visibility\": \"public\", \"iCalUID\": \"c75nbsmtsbf28q2cf4s5v0dbec@google.com\", \"sequence\": 0, \"reminders\": {\"useDefault\": true}, \"eventType\": \"default\"}, {\"kind\": \"calendar#event\", \"etag\": \"\\\"3480131682728000\\\"\", \"id\": \"hrn3uu38sk2bv41m95lh7ovp0g\", \"status\": \"confirmed\", \"htmlLink\": \"https://www.google.com/calendar/event?eid=aHJuM3V1MzhzazJidjQxbTk1bGg3b3ZwMGcgeWs1NjQ1MTIzQG0\", \"created\": \"2025-02-20T15:37:21.000Z\", \"updated\": \"2025-02-20T15:37:21.364Z\", \"summary\": \"AI Agent Test Event\", \"description\": \"This is an event added by my AI agent.\", \"location\": \"Virtual\", \"creator\": {\"email\": \"calender-setting-ai@fresh-balancer-451417-h0.iam.gserviceaccount.com\"}, \"organizer\": {\"email\": \"yk5645123@gmail.com\", \"self\": true}, \"start\": {\"dateTime\": \"2025-02-21T17:00:00Z\", \"timeZone\": \"UTC\"}, \"end\": {\"dateTime\": \"2025-02-21T18:00:00Z\", \"timeZone\": \"UTC\"}, \"visibility\": \"public\", \"iCalUID\": \"hrn3uu38sk2bv41m95lh7ovp0g@google.com\", \"sequence\": 0, \"reminders\": {\"useDefault\": true}, \"eventType\": \"default\"}, {\"kind\": \"calendar#event\", \"etag\": \"\\\"3480133198716000\\\"\", \"id\": \"joesmkt5p20jsbihngf2srnhug\", \"status\": \"confirmed\", \"htmlLink\": \"https://www.google.com/calendar/event?eid=am9lc21rdDVwMjBqc2JpaG5nZjJzcm5odWcgeWs1NjQ1MTIzQG0\", \"created\": \"2025-02-20T15:49:59.000Z\", \"updated\": \"2025-02-20T15:49:59.358Z\", \"summary\": \"AI Agent Test Event\", \"description\": \"This is an event added by my AI agent.\", \"location\": \"Virtual\", \"creator\": {\"email\": \"calender-setting-ai@fresh-balancer-451417-h0.iam.gserviceaccount.com\"}, \"organizer\": {\"email\": \"yk5645123@gmail.com\", \"self\": true}, \"start\": {\"dateTime\": \"2025-02-21T17:00:00Z\", \"timeZone\": \"UTC\"}, \"end\": {\"dateTime\": \"2025-02-21T18:00:00Z\", \"timeZone\": \"UTC\"}, \"visibility\": \"public\", \"iCalUID\": \"joesmkt5p20jsbihngf2srnhug@google.com\", \"sequence\": 0, \"reminders\": {\"useDefault\": true}, \"eventType\": \"default\"}]\n",
      "==================================\u001b[1m Ai Message \u001b[0m==================================\n",
      "\n",
      "It seems you have 4 events on February 21, 2025, all starting at 5:00 PM UTC and ending at 6:00 PM UTC. They are titled \"AI Agent Test Event\" and \"Meeting\". Please provide a different date and time, or I can still add this event to your calendar.\n"
     ]
    }
   ],
   "source": [
    "from langchain_core.messages import HumanMessage\n",
    "\n",
    "\n",
    "# to_markdown(graph.invoke(inputs))\n",
    "output = graph.invoke({\"messages\": [HumanMessage(\"add event to my calender on feb 21 2025 which will start at 10 am and end at 12 pm , will be held at virtual and its about the my first job as a software engineer, also make sure that i dont have events on that date and time and if there are please tell me details\")]})\n",
    "\n",
    "for o in output['messages']:\n",
    "    o.pretty_print()"
   ]
  }
 ],
 "metadata": {
  "kernelspec": {
   "display_name": ".venv",
   "language": "python",
   "name": "python3"
  },
  "language_info": {
   "codemirror_mode": {
    "name": "ipython",
    "version": 3
   },
   "file_extension": ".py",
   "mimetype": "text/x-python",
   "name": "python",
   "nbconvert_exporter": "python",
   "pygments_lexer": "ipython3",
   "version": "3.13.2"
  }
 },
 "nbformat": 4,
 "nbformat_minor": 2
}
